{
 "cells": [
  {
   "cell_type": "code",
   "execution_count": 9,
   "id": "47c5b801-d843-4167-a934-999bee497b6a",
   "metadata": {},
   "outputs": [],
   "source": [
    "# Finance set\n",
    "tableName='finance_markers'\n",
    "filterColumn='investigationState'\n",
    "filterValue='Complete'\n",
    "classifierColumn='fraudtype'"
   ]
  },
  {
   "cell_type": "code",
   "execution_count": 10,
   "id": "5eab4bc4-2fc5-480d-b990-afc92f00dee9",
   "metadata": {},
   "outputs": [
    {
     "name": "stdout",
     "output_type": "stream",
     "text": [
      "The sql extension is already loaded. To reload it, use:\n",
      "  %reload_ext sql\n"
     ]
    },
    {
     "data": {
      "text/html": [
       "<span style=\"None\">Running query in &#x27;trino://streambased-server:8080/kafka&#x27;</span>"
      ],
      "text/plain": [
       "Running query in 'trino://streambased-server:8080/kafka'"
      ]
     },
     "metadata": {},
     "output_type": "display_data"
    }
   ],
   "source": [
    "# Load our recent data\n",
    "\n",
    "%load_ext sql\n",
    "%sql trino://streambased-server:8080/kafka\n",
    "result = %sql SELECT * FROM kafka.streambased.{{tableName}} WHERE {{filterColumn}}='{{filterValue}}' LIMIT 30\n",
    "import pandas as pd\n",
    "df = result.DataFrame()"
   ]
  },
  {
   "cell_type": "code",
   "execution_count": 11,
   "id": "d5f4623d-1179-4d0d-8ad5-c5563f8cb59b",
   "metadata": {},
   "outputs": [],
   "source": [
    "# Load the model\n",
    "\n",
    "import time\n",
    "import pandas as pd\n",
    "import pandas as pd\n",
    "from joblib import dump, load\n",
    "from river import tree\n",
    "from joblib import load\n",
    "\n",
    "features = [column for column in df.columns if column not in [filterColumn, '_partition_id', '_partition_offset',\n",
    "                                                               '_message_corrupt', '_message', '_headers',\n",
    "                                                               '_message_length', '_key_corrupt', '_key',\n",
    "                                                               '_key_length', '_timestamp', classifierColumn]]\n",
    "\n",
    "# Load the pre-trained model\n",
    "model_path = \"hoeffding_tree_model.joblib\"\n",
    "model = load(model_path)"
   ]
  },
  {
   "cell_type": "code",
   "execution_count": 12,
   "id": "41f7e069-85f0-496e-9253-d7cd86406cd4",
   "metadata": {},
   "outputs": [
    {
     "name": "stdout",
     "output_type": "stream",
     "text": [
      "Predicted class for row 0: Credit Card Fraud\n",
      "Predicted class for row 1: Credit Card Fraud\n",
      "Predicted class for row 2: Credit Card Fraud\n",
      "Predicted class for row 3: Credit Card Fraud\n",
      "Predicted class for row 4: Credit Card Fraud\n",
      "Predicted class for row 5: Credit Card Fraud\n",
      "Predicted class for row 6: Credit Card Fraud\n",
      "Predicted class for row 7: Credit Card Fraud\n",
      "Predicted class for row 8: Credit Card Fraud\n",
      "Predicted class for row 9: Credit Card Fraud\n",
      "Predicted class for row 10: Credit Card Fraud\n",
      "Predicted class for row 11: Credit Card Fraud\n",
      "Predicted class for row 12: Credit Card Fraud\n",
      "Predicted class for row 13: Credit Card Fraud\n",
      "Predicted class for row 14: Credit Card Fraud\n",
      "Predicted class for row 15: Credit Card Fraud\n",
      "Predicted class for row 16: Credit Card Fraud\n",
      "Predicted class for row 17: Credit Card Fraud\n",
      "Predicted class for row 18: Credit Card Fraud\n",
      "Predicted class for row 19: Credit Card Fraud\n",
      "Predicted class for row 20: Credit Card Fraud\n",
      "Predicted class for row 21: Credit Card Fraud\n",
      "Predicted class for row 22: Credit Card Fraud\n",
      "Predicted class for row 23: Credit Card Fraud\n",
      "Predicted class for row 24: Credit Card Fraud\n",
      "Predicted class for row 25: Credit Card Fraud\n",
      "Predicted class for row 26: Credit Card Fraud\n",
      "Predicted class for row 27: Credit Card Fraud\n",
      "Predicted class for row 28: Credit Card Fraud\n",
      "Predicted class for row 29: Credit Card Fraud\n",
      "Predicted class for row 30: Credit Card Fraud\n",
      "Predicted class for row 31: Credit Card Fraud\n"
     ]
    }
   ],
   "source": [
    "# Simulate incoming data stream (for demonstration, let's use a portion of your existing DataFrame)\n",
    "# In a real scenario, this data could come from a live data source\n",
    "streaming_data = df[features]  # Let's assume we're making predictions for the first 10 rows\n",
    "\n",
    "# Iterate over each row in your streaming data to make predictions\n",
    "for index, row in streaming_data.iterrows():\n",
    "    # Convert the row to a dict of features\n",
    "    x = row.to_dict()\n",
    "    \n",
    "    # Make a prediction for the current set of features\n",
    "    y_pred = model.predict_one(x)\n",
    "    \n",
    "    # Optionally, you can print or log the prediction\n",
    "    print(f\"Predicted class for row {index}: {y_pred}\")"
   ]
  },
  {
   "cell_type": "code",
   "execution_count": null,
   "id": "39f6a5c1-6c25-4e3d-b29c-8f09bb2ad89c",
   "metadata": {},
   "outputs": [],
   "source": []
  }
 ],
 "metadata": {
  "kernelspec": {
   "display_name": "Python 3 (ipykernel)",
   "language": "python",
   "name": "python3"
  },
  "language_info": {
   "codemirror_mode": {
    "name": "ipython",
    "version": 3
   },
   "file_extension": ".py",
   "mimetype": "text/x-python",
   "name": "python",
   "nbconvert_exporter": "python",
   "pygments_lexer": "ipython3",
   "version": "3.10.12"
  }
 },
 "nbformat": 4,
 "nbformat_minor": 5
}
