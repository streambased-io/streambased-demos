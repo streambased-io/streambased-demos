{
 "cells": [
  {
   "cell_type": "code",
   "execution_count": null,
   "id": "119de490-13bb-4f6c-8aa4-a6d756794dd3",
   "metadata": {},
   "outputs": [],
   "source": [
    "# Finance set\n",
    "tableName='finance_markers'\n",
    "filterColumn='investigationState'\n",
    "filterValue='Complete'\n",
    "classifierColumn='fraudtype'"
   ]
  },
  {
   "cell_type": "code",
   "execution_count": null,
   "id": "e3704136-9801-4292-95f9-5fd92f3a165d",
   "metadata": {},
   "outputs": [],
   "source": [
    "# Tech set\n",
    "tableName='tech_markers'\n",
    "filterColumn='incidentState'\n",
    "filterValue='Complete'\n",
    "classifierColumn='incidentType'"
   ]
  },
  {
   "cell_type": "code",
   "execution_count": null,
   "id": "6f9c850a-1624-42db-b249-2d21642d5d87",
   "metadata": {},
   "outputs": [],
   "source": [
    "# Retail set\n",
    "tableName='retail_markers'\n",
    "filterColumn='saleVolume'\n",
    "filterValue='20000-50000'\n",
    "classifierColumn='itemPriceStrategy'"
   ]
  },
  {
   "cell_type": "code",
   "execution_count": null,
   "id": "83b038db-1675-42a6-b107-02f4ed533a6c",
   "metadata": {},
   "outputs": [],
   "source": [
    "# Healthcare set\n",
    "tableName='healthcare_markers'\n",
    "filterColumn='diagnosisStage'\n",
    "filterValue='Did Not Recover'\n",
    "classifierColumn='condition'"
   ]
  },
  {
   "cell_type": "code",
   "execution_count": null,
   "id": "d3cdb87a-8196-4c54-b654-f8977683533e",
   "metadata": {},
   "outputs": [],
   "source": [
    "# Manufacturing set\n",
    "tableName='manufacturing_markers'\n",
    "filterColumn='incidentState'\n",
    "filterValue='Complete'\n",
    "classifierColumn='incidentType'"
   ]
  },
  {
   "cell_type": "code",
   "execution_count": null,
   "id": "1693013b-ae18-4e2a-aad8-673208183069",
   "metadata": {},
   "outputs": [],
   "source": [
    "# Gaming set\n",
    "tableName='gaming_markers'\n",
    "filterColumn='satisfactionQuestionResult'\n",
    "filterValue='Very Unsatisfied'\n",
    "classifierColumn='tier'"
   ]
  }
 ],
 "metadata": {
  "kernelspec": {
   "display_name": "Python 3 (ipykernel)",
   "language": "python",
   "name": "python3"
  },
  "language_info": {
   "codemirror_mode": {
    "name": "ipython",
    "version": 3
   },
   "file_extension": ".py",
   "mimetype": "text/x-python",
   "name": "python",
   "nbconvert_exporter": "python",
   "pygments_lexer": "ipython3",
   "version": "3.10.12"
  }
 },
 "nbformat": 4,
 "nbformat_minor": 5
}
