{
 "cells": [
  {
   "cell_type": "code",
   "execution_count": null,
   "id": "83a9750d-f300-416c-9da4-1435436e82e5",
   "metadata": {},
   "outputs": [],
   "source": [
    "%load_ext sql\n",
    "%sql trino://streambased-server:8080/kafka"
   ]
  },
  {
   "cell_type": "code",
   "execution_count": null,
   "id": "fe3d821d-62c4-4ffb-802c-03a8c6fe5019",
   "metadata": {},
   "outputs": [],
   "source": [
    "result = %sql SELECT updateTime, exchangeRate FROM kafka.streambased.payment_terms WHERE currency = 'EUR' LIMIT 100"
   ]
  },
  {
   "cell_type": "code",
   "execution_count": null,
   "id": "6809baed-f3c9-4fcf-9ddf-d701780f2ef5",
   "metadata": {},
   "outputs": [],
   "source": [
    "result"
   ]
  },
  {
   "cell_type": "code",
   "execution_count": null,
   "id": "9e217569-5570-4bde-82e2-2dddeed4a463",
   "metadata": {},
   "outputs": [],
   "source": [
    "resultDf = result.DataFrame()\n",
    "xdata = resultDf['updateTime']  # Setting the x values\n",
    "ydata = resultDf['exchangeRate']  # setting the y values\n",
    "from scipy import stats\n",
    "slope, intercept, r_value, p_value, std_err = stats.linregress(xdata, ydata)"
   ]
  },
  {
   "cell_type": "code",
   "execution_count": null,
   "id": "38c77428-dfde-4692-9a55-dd4ce6daa6d1",
   "metadata": {},
   "outputs": [],
   "source": [
    "# Fitting Linear Regression to the dataset\n",
    "from sklearn.linear_model import LinearRegression\n",
    "\n",
    "X = resultDf.iloc[:, 0:1].values\n",
    "y = resultDf.iloc[:, 1].values\n",
    "\n",
    "lin = LinearRegression()\n",
    " \n",
    "lin.fit(X, y)\n",
    "\n",
    "from sklearn.preprocessing import PolynomialFeatures\n",
    " \n",
    "poly = PolynomialFeatures(degree=4)\n",
    "X_poly = poly.fit_transform(X)\n",
    " \n",
    "poly.fit(X_poly, y)\n",
    "lin2 = LinearRegression()\n",
    "lin2.fit(X_poly, y)"
   ]
  },
  {
   "cell_type": "code",
   "execution_count": null,
   "id": "c286a1df-8cb8-43e9-bc5e-0019e85d64fe",
   "metadata": {},
   "outputs": [],
   "source": [
    "import numpy as np\n",
    "import matplotlib.pyplot as plt\n",
    "plt.figure(figsize = (10,6))\n",
    "\n",
    "plt.scatter(xdata, ydata)\n",
    "plt.plot(xdata, slope * xdata + intercept, color='yellow')\n",
    "#plt.plot(myline, mymodel(myline))\n",
    "plt.plot(X, lin2.predict(poly.fit_transform(X)),\n",
    "         color='red')"
   ]
  },
  {
   "cell_type": "code",
   "execution_count": null,
   "id": "2fc1aea3-615f-41a1-a03d-0f964a5741ad",
   "metadata": {},
   "outputs": [],
   "source": [
    "\n",
    "\n",
    "import time\n",
    "\n",
    "# unix timestamp in 6 months time\n",
    "now = time.time() + 15638400\n",
    "\n",
    "slope * now + intercept"
   ]
  },
  {
   "cell_type": "code",
   "execution_count": null,
   "id": "c97d498e-d717-4ae9-8e78-e282d6b05708",
   "metadata": {},
   "outputs": [],
   "source": []
  }
 ],
 "metadata": {
  "kernelspec": {
   "display_name": "Python 3 (ipykernel)",
   "language": "python",
   "name": "python3"
  },
  "language_info": {
   "codemirror_mode": {
    "name": "ipython",
    "version": 3
   },
   "file_extension": ".py",
   "mimetype": "text/x-python",
   "name": "python",
   "nbconvert_exporter": "python",
   "pygments_lexer": "ipython3",
   "version": "3.10.12"
  }
 },
 "nbformat": 4,
 "nbformat_minor": 5
}
