{
 "cells": [
  {
   "cell_type": "code",
   "execution_count": 1,
   "id": "0cbcda27-6dc0-42af-bb56-50b31536a083",
   "metadata": {},
   "outputs": [],
   "source": [
    "import math\n",
    "from datetime import datetime, timedelta\n",
    "from sklearn.cluster import KMeans\n",
    "import matplotlib.pyplot as plt"
   ]
  },
  {
   "cell_type": "code",
   "execution_count": 2,
   "id": "33be16f5-b18a-4d97-8100-b002d3ba73ab",
   "metadata": {},
   "outputs": [],
   "source": [
    "def calc_distance(lat1, lon1, lat2, lon2):\n",
    "    # Radius of the Earth in kilometers\n",
    "    R = 6371.0\n",
    "    # Convert latitude and longitude from degrees to radians\n",
    "    lat1, lon1, lat2, lon2 = map(math.radians, [lat1, lon1, lat2, lon2])\n",
    "    # Change in coordinates\n",
    "    dlat = lat2 - lat1\n",
    "    dlon = lon2 - lon1\n",
    "    # Haversine formula\n",
    "    a = math.sin(dlat / 2)**2 + math.cos(lat1) * math.cos(lat2) * math.sin(dlon / 2)**2\n",
    "    c = 2 * math.atan2(math.sqrt(a), math.sqrt(1 - a))\n",
    "    # Distance in kilometers\n",
    "    distance = R * c\n",
    "    return distance"
   ]
  },
  {
   "cell_type": "code",
   "execution_count": 3,
   "id": "299edca3-bd07-45cb-aab0-34baa2f11f86",
   "metadata": {},
   "outputs": [],
   "source": [
    "def calculate_end_time(index, row, df):\n",
    "    truckLat = row['current_latitude']\n",
    "    truckLong = row['current_longitude']\n",
    "    distance = calc_distance(switzLat, switzLong, truckLat, truckLong)\n",
    "    time_hours = distance/60 #60 kmh avg speed\n",
    "    start_time = datetime(2024,5, row['date_day'], row['time_hours'], row['time_mins'], 0)\n",
    "    delta = timedelta(hours=time_hours)\n",
    "    end_time = start_time + delta\n",
    "    df.loc[index] = [start_time.day, start_time.hour, start_time.minute, end_time.day, end_time.hour, end_time.minute ]"
   ]
  },
  {
   "cell_type": "code",
   "execution_count": 4,
   "id": "7267a962-a88d-408e-a004-f5b9b21be73b",
   "metadata": {},
   "outputs": [
    {
     "name": "stdout",
     "output_type": "stream",
     "text": [
      "Deploy Flask apps for free on Ploomber Cloud! Learn more: https://ploomber.io/s/signup\n"
     ]
    },
    {
     "data": {
      "text/html": [
       "<span style=\"None\">Connecting to &#x27;trino://streambased-server:8080/kafka&#x27;</span>"
      ],
      "text/plain": [
       "Connecting to 'trino://streambased-server:8080/kafka'"
      ]
     },
     "metadata": {},
     "output_type": "display_data"
    }
   ],
   "source": [
    "switzLat = 46.800663464 \n",
    "switzLong = 8.222665776\n",
    "\n",
    "%load_ext sql\n",
    "%sql trino://streambased-server:8080/kafka"
   ]
  },
  {
   "cell_type": "code",
   "execution_count": 5,
   "id": "016e60f1-2a09-42ed-8fb1-ebfcce209f62",
   "metadata": {},
   "outputs": [
    {
     "data": {
      "text/html": [
       "<span style=\"None\">Running query in &#x27;trino://streambased-server:8080/kafka&#x27;</span>"
      ],
      "text/plain": [
       "Running query in 'trino://streambased-server:8080/kafka'"
      ]
     },
     "metadata": {},
     "output_type": "display_data"
    }
   ],
   "source": [
    "result = %sql SELECT * FROM kafka.streambased.truck WHERE truck_id = 'truck-1' ORDER BY _timestamp desc LIMIT 100\n",
    "import pandas as pd\n",
    "inDf = result.DataFrame()"
   ]
  },
  {
   "cell_type": "code",
   "execution_count": 6,
   "id": "ba17bcc4-1075-4f0c-a878-b198e3b8c6b6",
   "metadata": {},
   "outputs": [],
   "source": [
    "df = pd.DataFrame(columns=['start_day','start_hour', 'start_mins', 'predicted_end_day', 'predicted_end_hour', 'predicted_end_mins'])\n",
    "for index, row in inDf.iterrows():\n",
    "    calculate_end_time(index,row,df)"
   ]
  },
  {
   "cell_type": "code",
   "execution_count": 7,
   "id": "6036bbb7-2071-4f5c-a17c-fd93ec86439e",
   "metadata": {},
   "outputs": [
    {
     "data": {
      "text/html": [
       "<div>\n",
       "<style scoped>\n",
       "    .dataframe tbody tr th:only-of-type {\n",
       "        vertical-align: middle;\n",
       "    }\n",
       "\n",
       "    .dataframe tbody tr th {\n",
       "        vertical-align: top;\n",
       "    }\n",
       "\n",
       "    .dataframe thead th {\n",
       "        text-align: right;\n",
       "    }\n",
       "</style>\n",
       "<table border=\"1\" class=\"dataframe\">\n",
       "  <thead>\n",
       "    <tr style=\"text-align: right;\">\n",
       "      <th></th>\n",
       "      <th>start_day</th>\n",
       "      <th>start_hour</th>\n",
       "      <th>start_mins</th>\n",
       "      <th>predicted_end_day</th>\n",
       "      <th>predicted_end_hour</th>\n",
       "      <th>predicted_end_mins</th>\n",
       "    </tr>\n",
       "  </thead>\n",
       "  <tbody>\n",
       "    <tr>\n",
       "      <th>0</th>\n",
       "      <td>13</td>\n",
       "      <td>9</td>\n",
       "      <td>49</td>\n",
       "      <td>13</td>\n",
       "      <td>12</td>\n",
       "      <td>13</td>\n",
       "    </tr>\n",
       "    <tr>\n",
       "      <th>1</th>\n",
       "      <td>15</td>\n",
       "      <td>14</td>\n",
       "      <td>31</td>\n",
       "      <td>15</td>\n",
       "      <td>17</td>\n",
       "      <td>8</td>\n",
       "    </tr>\n",
       "    <tr>\n",
       "      <th>2</th>\n",
       "      <td>16</td>\n",
       "      <td>10</td>\n",
       "      <td>35</td>\n",
       "      <td>16</td>\n",
       "      <td>11</td>\n",
       "      <td>51</td>\n",
       "    </tr>\n",
       "    <tr>\n",
       "      <th>3</th>\n",
       "      <td>11</td>\n",
       "      <td>3</td>\n",
       "      <td>18</td>\n",
       "      <td>11</td>\n",
       "      <td>4</td>\n",
       "      <td>42</td>\n",
       "    </tr>\n",
       "    <tr>\n",
       "      <th>4</th>\n",
       "      <td>16</td>\n",
       "      <td>21</td>\n",
       "      <td>16</td>\n",
       "      <td>16</td>\n",
       "      <td>23</td>\n",
       "      <td>31</td>\n",
       "    </tr>\n",
       "    <tr>\n",
       "      <th>...</th>\n",
       "      <td>...</td>\n",
       "      <td>...</td>\n",
       "      <td>...</td>\n",
       "      <td>...</td>\n",
       "      <td>...</td>\n",
       "      <td>...</td>\n",
       "    </tr>\n",
       "    <tr>\n",
       "      <th>95</th>\n",
       "      <td>12</td>\n",
       "      <td>11</td>\n",
       "      <td>40</td>\n",
       "      <td>12</td>\n",
       "      <td>13</td>\n",
       "      <td>2</td>\n",
       "    </tr>\n",
       "    <tr>\n",
       "      <th>96</th>\n",
       "      <td>12</td>\n",
       "      <td>20</td>\n",
       "      <td>11</td>\n",
       "      <td>12</td>\n",
       "      <td>22</td>\n",
       "      <td>1</td>\n",
       "    </tr>\n",
       "    <tr>\n",
       "      <th>97</th>\n",
       "      <td>17</td>\n",
       "      <td>6</td>\n",
       "      <td>42</td>\n",
       "      <td>17</td>\n",
       "      <td>8</td>\n",
       "      <td>26</td>\n",
       "    </tr>\n",
       "    <tr>\n",
       "      <th>98</th>\n",
       "      <td>16</td>\n",
       "      <td>22</td>\n",
       "      <td>14</td>\n",
       "      <td>17</td>\n",
       "      <td>0</td>\n",
       "      <td>53</td>\n",
       "    </tr>\n",
       "    <tr>\n",
       "      <th>99</th>\n",
       "      <td>17</td>\n",
       "      <td>13</td>\n",
       "      <td>25</td>\n",
       "      <td>17</td>\n",
       "      <td>14</td>\n",
       "      <td>47</td>\n",
       "    </tr>\n",
       "  </tbody>\n",
       "</table>\n",
       "<p>100 rows × 6 columns</p>\n",
       "</div>"
      ],
      "text/plain": [
       "    start_day  start_hour  start_mins  predicted_end_day  predicted_end_hour  \\\n",
       "0          13           9          49                 13                  12   \n",
       "1          15          14          31                 15                  17   \n",
       "2          16          10          35                 16                  11   \n",
       "3          11           3          18                 11                   4   \n",
       "4          16          21          16                 16                  23   \n",
       "..        ...         ...         ...                ...                 ...   \n",
       "95         12          11          40                 12                  13   \n",
       "96         12          20          11                 12                  22   \n",
       "97         17           6          42                 17                   8   \n",
       "98         16          22          14                 17                   0   \n",
       "99         17          13          25                 17                  14   \n",
       "\n",
       "    predicted_end_mins  \n",
       "0                   13  \n",
       "1                    8  \n",
       "2                   51  \n",
       "3                   42  \n",
       "4                   31  \n",
       "..                 ...  \n",
       "95                   2  \n",
       "96                   1  \n",
       "97                  26  \n",
       "98                  53  \n",
       "99                  47  \n",
       "\n",
       "[100 rows x 6 columns]"
      ]
     },
     "execution_count": 7,
     "metadata": {},
     "output_type": "execute_result"
    }
   ],
   "source": [
    "df"
   ]
  },
  {
   "cell_type": "code",
   "execution_count": 8,
   "id": "95f2e166-0f34-42af-844f-d3deb0543ae6",
   "metadata": {},
   "outputs": [
    {
     "data": {
      "image/png": "[encoded data removed]",
      "text/plain": [
       "<Figure size 1000x600 with 1 Axes>"
      ]
     },
     "metadata": {},
     "output_type": "display_data"
    }
   ],
   "source": [
    "\n",
    "\n",
    "# Convert start and end times to datetime objects\n",
    "df['start_time'] = pd.to_datetime(\"2024 5 \" + df['start_day'].astype(str) + ' ' +\n",
    "                                  df['start_hour'].astype(str) + ':' +\n",
    "                                  df['start_mins'].astype(str), format='%Y %m %d %H:%M')\n",
    "df['end_time'] = pd.to_datetime(\"2024 5 \" + df['predicted_end_day'].astype(str) + ' ' +\n",
    "                                df['predicted_end_hour'].astype(str) + ':' +\n",
    "                                df['predicted_end_mins'].astype(str), format='%Y %m %d %H:%M')\n",
    "# Feature Engineering\n",
    "df['duration'] = (df['end_time'] - df['start_time']).dt.total_seconds() / 60  # Duration in minutes\n",
    "# More features can be added here such as day of the week, etc.\n",
    "# Clustering\n",
    "kmeans = KMeans(n_clusters=4, random_state=0)\n",
    "df['cluster'] = kmeans.fit_predict(df[['duration']])  # Use more features if necessary\n",
    "# Visualization\n",
    "plt.figure(figsize=(10, 6))\n",
    "for cluster in df['cluster'].unique():\n",
    "    cluster_data = df[df['cluster'] == cluster]\n",
    "    plt.scatter(cluster_data['start_time'], cluster_data['duration'], label=f'Cluster {cluster}')\n",
    "plt.legend()\n",
    "plt.title('Cluster of Events by Start Time and Duration')\n",
    "plt.xlabel('Start Time')\n",
    "plt.ylabel('Duration (minutes)')\n",
    "plt.xticks(rotation=45)\n",
    "plt.show()"
   ]
  },
  {
   "cell_type": "code",
   "execution_count": null,
   "id": "884eab03-c6d6-4ef8-ab3b-0fbd6ecf42d5",
   "metadata": {},
   "outputs": [],
   "source": []
  },
  {
   "cell_type": "code",
   "execution_count": null,
   "id": "d133da63-5d6a-48e0-827d-e7d3073314f6",
   "metadata": {},
   "outputs": [],
   "source": []
  }
 ],
 "metadata": {
  "kernelspec": {
   "display_name": "Python 3 (ipykernel)",
   "language": "python",
   "name": "python3"
  },
  "language_info": {
   "codemirror_mode": {
    "name": "ipython",
    "version": 3
   },
   "file_extension": ".py",
   "mimetype": "text/x-python",
   "name": "python",
   "nbconvert_exporter": "python",
   "pygments_lexer": "ipython3",
   "version": "3.10.12"
  }
 },
 "nbformat": 4,
 "nbformat_minor": 5
}
