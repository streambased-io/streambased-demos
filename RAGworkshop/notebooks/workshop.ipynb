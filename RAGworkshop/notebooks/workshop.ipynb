{
 "cells": [
  {
   "cell_type": "code",
   "execution_count": 1,
   "id": "b6b23e01-cc86-4f00-ad99-8a5bfc216a10",
   "metadata": {
    "tags": []
   },
   "outputs": [],
   "source": [
    "import os\n",
    "from openai import OpenAI\n",
    "import openai\n",
    "import json\n",
    "from sqlalchemy.engine import create_engine\n",
    "from sqlalchemy import text\n",
    "import pandas as pd\n",
    "import time\n",
    "from pandas import DataFrame\n",
    "import random"
   ]
  },
  {
   "cell_type": "code",
   "execution_count": 2,
   "id": "ff4a9489-8dc4-44b3-80fb-6ec011922697",
   "metadata": {},
   "outputs": [],
   "source": [
    "\"\"\"A utility function to execute prompts against the LLM\"\"\"\n",
    "\n",
    "def llm_model(prompt):\n",
    "    client = OpenAI(api_key=\"\")\n",
    "    try:\n",
    "        response =client.chat.completions.create(\n",
    "            model=\"gpt-4o-mini\",\n",
    "            messages=[{\"role\": \"system\", \"content\": \"You have an extensive knowledge on english and have an amazing skill to summarise documents without losing important information and delvireing the content in a very consize way\"},\n",
    "                      {\"role\": \"user\", \"content\": prompt}]\n",
    "        )\n",
    "        response_message = response.choices[0].message.content\n",
    "        return response_message\n",
    "    except openai.OpenAIError as e:\n",
    "        print(f\"OpenAI API error: {e}\")\n",
    "        return \"Error with OpenAI API\"\n",
    "    except Exception as e:\n",
    "        print(f\"General error: {e}\")\n",
    "        return \"General error in classification\""
   ]
  },
  {
   "cell_type": "code",
   "execution_count": 3,
   "id": "22220a49-8a05-4201-bb64-9b584af4961e",
   "metadata": {
    "tags": []
   },
   "outputs": [],
   "source": [
    "\"\"\"A utility function to setup the connection to the realtime source\"\"\"\n",
    "\n",
    "def create_kafka_engine(connection_params: str):\n",
    "    \n",
    "    connect_args = {\n",
    "        \"session_properties\": {\"streambased_connection\": connection_params, \"use_streambased\": True},\n",
    "        \"http_scheme\": \"https\",\n",
    "        \"schema\": \"streambased\"\n",
    "    }\n",
    "    \n",
    "    engine = create_engine(\"trino://streambased.cloud:8443/kafka\", connect_args=connect_args)\n",
    "    \n",
    "    return engine"
   ]
  },
  {
   "cell_type": "code",
   "execution_count": 4,
   "id": "1ff644c3-a9b2-4c5a-a85c-1ba4b88d5f72",
   "metadata": {
    "tags": []
   },
   "outputs": [],
   "source": [
    "\"\"\"Make a connection for the realtime source\"\"\"\n",
    "\n",
    "connection_params = \"\"\"{\n",
    "  \"bootstrap.servers\": \"pkc-l6wr6.europe-west2.gcp.confluent.cloud:9092\",\n",
    "  \"security.protocol\": \"SASL_SSL\",\n",
    "  \"sasl.jaas.config\": \"org.apache.kafka.common.security.plain.PlainLoginModule required username='4OOK2MI6TA37CC4K' password='0mzIsqc1Soz2thm9EutDuAkARY8CZqaNzJ5IF/KboX3l58XN/LZ+yQeuG3LmheIc';\",\n",
    "  \"sasl.mechanism\": \"PLAIN\",\n",
    "  \"schema.registry.url\":\"https://psrc-571d82.europe-west2.gcp.confluent.cloud\",\n",
    "  \"basic.auth.credentials.source\":\"USER_INFO\",\n",
    "  \"basic.auth.user.info\":\"FM36ASJ3BX2SWVXV:gKeS/p/CyfQYfd9/9diFwU6LsauvJ4mtmnPAv68ro7Bm81aZp29QOTXkV5yuv8af\"\n",
    "}\"\"\"\n",
    "\n",
    "engine = create_kafka_engine(connection_params)\n",
    "connection = engine.connect()"
   ]
  },
  {
   "cell_type": "code",
   "execution_count": 14,
   "id": "8e2da26e-3635-4741-a94b-014776ddd23b",
   "metadata": {},
   "outputs": [],
   "source": [
    "\"\"\"Prepare 7 days worth of queries\"\"\"\n",
    "\n",
    "current_timestamp = int(time.time()*1000)\n",
    "day1_timestamp = current_timestamp - 86400000\n",
    "day2_timestamp = day1_timestamp - 86400000\n",
    "day3_timestamp = day2_timestamp - 86400000\n",
    "day4_timestamp = day3_timestamp - 86400000\n",
    "day5_timestamp = day4_timestamp - 86400000\n",
    "day6_timestamp = day5_timestamp - 86400000\n",
    "day7_timestamp = day6_timestamp - 86400000\n",
    "\n",
    "\"\"\"We limit the rows returned for demo performance reasons\"\"\"\n",
    "\n",
    "day1_query = f\"SELECT * FROM yt_gaming_subtitles WHERE timestamp > {day1_timestamp} AND timestamp < {current_timestamp} LIMIT 5000\" \n",
    "day2_query = f\"SELECT * FROM yt_gaming_subtitles WHERE timestamp > {day1_timestamp} AND timestamp < {current_timestamp} LIMIT 5000\"\n",
    "day3_query = f\"SELECT * FROM yt_gaming_subtitles WHERE timestamp > {day1_timestamp} AND timestamp < {current_timestamp} LIMIT 5000\"\n",
    "day4_query = f\"SELECT * FROM yt_gaming_subtitles WHERE timestamp > {day1_timestamp} AND timestamp < {current_timestamp} LIMIT 5000\"\n",
    "day5_query = f\"SELECT * FROM yt_gaming_subtitles WHERE timestamp > {day1_timestamp} AND timestamp < {current_timestamp} LIMIT 5000\"\n",
    "day6_query = f\"SELECT * FROM yt_gaming_subtitles WHERE timestamp > {day1_timestamp} AND timestamp < {current_timestamp} LIMIT 5000\"\n",
    "day7_query = f\"SELECT * FROM yt_gaming_subtitles WHERE timestamp > {day1_timestamp} AND timestamp < {current_timestamp} LIMIT 5000\"\n"
   ]
  },
  {
   "cell_type": "code",
   "execution_count": 15,
   "id": "eca1bbd7-c8a0-439c-961e-30305ac782e7",
   "metadata": {},
   "outputs": [],
   "source": [
    "\"\"\"Execute 7 days worth of queries - in production this would be executed asynchronously and continuously\"\"\"\n",
    "\n",
    "connection = engine.connect()\n",
    "\n",
    "rs1 = connection.execute(text(day1_query))\n",
    "day1_l0_df = DataFrame(rs1.fetchall())\n",
    "day1_l0_df.columns = rs1.keys()"
   ]
  },
  {
   "cell_type": "code",
   "execution_count": 16,
   "id": "5f8579e0-74fe-4737-8518-c7ca103c2150",
   "metadata": {},
   "outputs": [],
   "source": [
    "rs2 = connection.execute(text(day2_query))\n",
    "day2_l0_df = DataFrame(rs2.fetchall())\n",
    "day2_l0_df.columns = rs2.keys()"
   ]
  },
  {
   "cell_type": "code",
   "execution_count": 17,
   "id": "9139a1a9-425d-43f7-9078-ec087b835585",
   "metadata": {},
   "outputs": [],
   "source": [
    "rs3 = connection.execute(text(day3_query))\n",
    "day3_l0_df = DataFrame(rs3.fetchall())\n",
    "day3_l0_df.columns = rs3.keys()"
   ]
  },
  {
   "cell_type": "code",
   "execution_count": 18,
   "id": "a450b4a9-f38e-4e3d-81a5-6aac57255698",
   "metadata": {},
   "outputs": [],
   "source": [
    "rs4 = connection.execute(text(day4_query))\n",
    "day4_l0_df = DataFrame(rs4.fetchall())\n",
    "day4_l0_df.columns = rs4.keys()"
   ]
  },
  {
   "cell_type": "code",
   "execution_count": 19,
   "id": "acbf475b-5561-4386-a3b7-bdb1576105ba",
   "metadata": {},
   "outputs": [],
   "source": [
    "rs5 = connection.execute(text(day5_query))\n",
    "day5_l0_df = DataFrame(rs5.fetchall())\n",
    "day5_l0_df.columns = rs5.keys()"
   ]
  },
  {
   "cell_type": "code",
   "execution_count": 20,
   "id": "b83afc2f-9fe9-4218-b096-5bc6c9077258",
   "metadata": {},
   "outputs": [],
   "source": [
    "rs6 = connection.execute(text(day6_query))\n",
    "day6_l0_df = DataFrame(rs6.fetchall())\n",
    "day6_l0_df.columns = rs6.keys()"
   ]
  },
  {
   "cell_type": "code",
   "execution_count": 21,
   "id": "a25512ae-1f9b-495f-8d31-7b66fb9c5fc1",
   "metadata": {},
   "outputs": [],
   "source": [
    "rs7 = connection.execute(text(day7_query))\n",
    "day7_l0_df = DataFrame(rs7.fetchall())\n",
    "day7_l0_df.columns = rs7.keys()"
   ]
  },
  {
   "cell_type": "code",
   "execution_count": 22,
   "id": "d98fc44e-a988-4893-89b0-4244caf67a85",
   "metadata": {},
   "outputs": [],
   "source": [
    "\"\"\"Level 1 summarisation: we take 1 day's worth of captions and summarise them to 1000 words\"\"\"\n",
    "\n",
    "day2_l1_prompt = f\"\"\"I have provided the input of the youtube gaming subtitles for a single day please summmarise\n",
    "it to 1000 words and make sure you don't leave important stuff out. The captions are: {' '.join(day2_l0_df[\"text\"].dropna())}\"\"\"\n",
    "day2_l1_summary = llm_model(day2_l1_prompt)"
   ]
  },
  {
   "cell_type": "code",
   "execution_count": 23,
   "id": "b94ff3e4-4b62-452d-9ada-d16585f6ff77",
   "metadata": {},
   "outputs": [],
   "source": [
    "day3_l1_prompt = f\"\"\"I have provided the input of the youtube gaming subtitles for a single day please summmarise\n",
    "it to 1000 words and make sure you don't leave important stuff out. The captions are: {' '.join(day3_l0_df[\"text\"].dropna())}\"\"\"\n",
    "day3_l1_summary = llm_model(day3_l1_prompt)"
   ]
  },
  {
   "cell_type": "code",
   "execution_count": 24,
   "id": "6e6029c4-d80a-4422-8d0a-bd90c6d87714",
   "metadata": {},
   "outputs": [],
   "source": [
    "\"\"\"Level 2 summarisation: we take 1 day's worth of captions and extract 100 keywords\"\"\"\n",
    "\n",
    "day4_l2_prompt = f\"\"\"I have provided the input of the youtube gaming subtitles for a single day please extract 100 keywords from it. The captions are: {' '.join(day4_l0_df[\"text\"].dropna())}\"\"\"\n",
    "day4_l2_summary = llm_model(day4_l2_prompt)"
   ]
  },
  {
   "cell_type": "code",
   "execution_count": 25,
   "id": "17a9c391-ca39-4a77-a388-abbe5394fb79",
   "metadata": {},
   "outputs": [],
   "source": [
    "day5_l2_prompt = f\"\"\"I have provided the input of the youtube gaming subtitles for a single day please extract 100 keywords from it. The captions are: {' '.join(day5_l0_df[\"text\"].dropna())}\"\"\"\n",
    "day5_l2_summary = llm_model(day5_l2_prompt)"
   ]
  },
  {
   "cell_type": "code",
   "execution_count": 26,
   "id": "1bfcbcdf-51e5-4216-9b9d-71402cc52803",
   "metadata": {},
   "outputs": [],
   "source": [
    "day6_l2_prompt = f\"\"\"I have provided the input of the youtube gaming subtitles for a single day please extract 100 keywords from it. The captions are: {' '.join(day6_l0_df[\"text\"].dropna())}\"\"\"\n",
    "day6_l2_summary = llm_model(day6_l2_prompt)"
   ]
  },
  {
   "cell_type": "code",
   "execution_count": 27,
   "id": "9672c05a-ca46-4b74-909c-c2b43a2a4359",
   "metadata": {},
   "outputs": [],
   "source": [
    "day7_l2_prompt = f\"\"\"I have provided the input of the youtube gaming subtitles for a single day please extract 100 keywords from it. The captions are: {' '.join(day7_l0_df[\"text\"].dropna())}\"\"\"\n",
    "day7_l2_summary = llm_model(day7_l2_prompt)"
   ]
  },
  {
   "cell_type": "code",
   "execution_count": 28,
   "id": "afba6537-7b17-4eec-87e6-6c00a9e60167",
   "metadata": {},
   "outputs": [
    {
     "name": "stdout",
     "output_type": "stream",
     "text": [
      "Composed a prompt with length: 36740\n"
     ]
    }
   ],
   "source": [
    "\"\"\"Now we can compose a prompt\"\"\"\n",
    "\n",
    "prompt = f\"\"\"I have provided captions from Youtube gaming videos from the last day here: \n",
    "\n",
    "{' '.join(day1_l0_df[\"text\"].dropna())}.\n",
    "\n",
    "I have also provided a sumary of Youtube gaming videos from 24 to 72hrs ago here: \n",
    "\n",
    "{day2_l1_summary}\n",
    "{day3_l1_summary}\n",
    "\n",
    "I have also provided keywords extracted from Youtube gaming videos older than 72hrs here:\n",
    "\n",
    "{day4_l2_summary}\n",
    "{day5_l2_summary}\n",
    "{day6_l2_summary}\n",
    "{day7_l2_summary}\n",
    "\n",
    "Use this information to answer the user's question. The user's question is what are the latest and enduring trends in the gaming field?\"\"\"\n",
    "\n",
    "print(f\"Composed a prompt with length: {len(prompt.split())}\")\n"
   ]
  },
  {
   "cell_type": "code",
   "execution_count": 29,
   "id": "2753e5d8-dd3b-444f-8e75-cad15ed84b00",
   "metadata": {},
   "outputs": [
    {
     "name": "stdout",
     "output_type": "stream",
     "text": [
      "The latest and enduring trends in the gaming field, as reflected in the provided YouTube gaming content, can be summarized as follows:\n",
      "\n",
      "1. **Community Engagement and Collaboration**: Many gaming videos highlight the importance of teamwork and communication among players. This is evidenced in multiplayer gaming sessions where players strategize together, showcasing that cooperative gameplay is both enjoyable and essential for success.\n",
      "\n",
      "2. **Competitive Spirit and Challenges**: Competitive gaming is a prominent theme, with players emphasizing strategies to secure victory and discussing defensive tactics. Players often engage in challenges that not only test their skills but also foster a fun and spirited atmosphere.\n",
      "\n",
      "3. **Content Creator Dynamics**: There is an ongoing discussion around cancel culture among creators, which influences how content is shaped and perceived. Content creators often explore their digital personas and community feedback, reflecting a broader commentary on social media interactions and public reputation.\n",
      "\n",
      "4. **Character-Driven Storytelling**: Games like \"Dragon Age: The Veil Guards\" illustrate a trend towards rich narrative experiences, where character development and emotional depth are integral to gameplay. Players are encouraged to invest in character arcs, underlining the use of narrative as a powerful storytelling tool in RPGs.\n",
      "\n",
      "5. **Humor and Light-hearted Banter**: Many gaming sessions incorporate humor, creating a relaxing environment for viewers. The comedic narrative on self-sabotaging and playful conflicts between friends are key elements, making the gaming experience enjoyable beyond just wins and losses.\n",
      "\n",
      "6. **Exploration of Genres and Mechanics**: Gaming sessions often explore various game mechanics, from combat systems to environmental interactions. This showcases the evolution of gameplay experiences, pushing boundaries within genres, such as RPGs and MMORPGs.\n",
      "\n",
      "7. **Evolving Game Worlds**: As in the Minecraft examples, gamers exhibit a growing interest in crafting and building within expansive digital landscapes, accessing both creative modes and survival tactics that cater to diverse play styles.\n",
      "\n",
      "8. **Adventure and Wickless Puzzle Solving**: Many sessions center around completing quests, solving puzzles, and facing unique challenges, demonstrating an enduring interest in adventure and exploration gameplay.\n",
      "\n",
      "In essence, the gaming landscape is currently marked by an interplay of competitive gaming, immersive storytelling, community engagement, and humor, all of which contribute to a multi-faceted experience that appeals to a wide range of players. These trends indicate that both social and narrative elements remain central to the evolution of games and the gaming community.\n"
     ]
    }
   ],
   "source": [
    "\"\"\"Execute the prompt against the LLM\"\"\"\n",
    "\n",
    "result = llm_model(prompt)\n",
    "print(result)"
   ]
  },
  {
   "cell_type": "code",
   "execution_count": 30,
   "id": "589d8de0-f0e7-46fd-bc8b-7926897a7256",
   "metadata": {},
   "outputs": [
    {
     "name": "stdout",
     "output_type": "stream",
     "text": [
      "Composed a prompt with length: 73197\n"
     ]
    }
   ],
   "source": [
    "\"\"\"Let's compare with a similar prompt size with a lot less detail\"\"\"\n",
    "\n",
    "top_k_selections = [day1_l0_df,day2_l0_df,day3_l0_df,day4_l0_df,day5_l0_df,day6_l0_df,day7_l0_df]\n",
    "top_k_df_1 = random.choice(top_k_selections)\n",
    "top_k_df_2 = random.choice(top_k_selections)\n",
    "\n",
    "bad_prompt = f\"\"\"I have provided captions from Youtube gaming videos here: \n",
    "\n",
    "{' '.join(top_k_df_1[\"text\"].dropna())}\n",
    "{' '.join(top_k_df_2[\"text\"].dropna())}\n",
    "\n",
    "Use this information to answer the user's question. The user's question is what are the latest and enduring trends in the gaming field?\"\"\"\n",
    "\n",
    "print(f\"Composed a prompt with length: {len(bad_prompt.split())}\")"
   ]
  },
  {
   "cell_type": "code",
   "execution_count": 31,
   "id": "22d79a75-c682-4818-89dd-f10ff054bf2c",
   "metadata": {},
   "outputs": [
    {
     "name": "stdout",
     "output_type": "stream",
     "text": [
      "The latest and enduring trends in the gaming field include:\n",
      "\n",
      "1. **Live Service Games**: Many developers are focusing on creating live service games that offer ongoing content updates, events, and expansions, allowing players to engage continuously. This trend is seen in popular titles that often include seasonal content and player engagement strategies.\n",
      "\n",
      "2. **Cross-Platform Play**: There's a growing push for cross-platform capabilities where players on different systems (PC, consoles, mobile) can interact and play together, enhancing community engagement and multiplayer experiences.\n",
      "\n",
      "3. **Streaming and Content Creation**: The rise of platforms like Twitch and YouTube has transformed gaming into a spectator sport, with many gamers becoming content creators. Streaming various games, esports competitions, and gaming-related content has become a major part of gaming culture.\n",
      "\n",
      "4. **Mobile Gaming**: There’s a significant increase in mobile gaming popularity, with many developers focusing on creating high-quality games for mobile devices, expanding the gaming community beyond traditional consoles and PCs.\n",
      "\n",
      "5. **Virtual Reality (VR) and Augmented Reality (AR)**: These technologies are increasingly being integrated into gaming experiences, offering immersive gameplay that was once limited to traditional screens. Games designed for VR and AR have been gaining traction and popularity.\n",
      "\n",
      "6. **Blockchain and NFTs**: The integration of blockchain technology into gaming allows for unique ownership of in-game assets through NFTs, creating potential new revenue streams for developers and unique engagement models for players.\n",
      "\n",
      "7. **Indie Game Boom**: Supported by platforms that facilitate development and distribution, independent developers are thriving, creating innovative and diverse gaming experiences that challenge mainstream titles.\n",
      "\n",
      "8. **Inclusivity and Diversity**: There is an ongoing trend toward more inclusive and diverse representation in games, with developers increasingly focusing on creating characters and narratives that reflect a broader spectrum of identities and experiences.\n",
      "\n",
      "These trends indicate a dynamic landscape in the gaming industry, reflecting changing consumer preferences, technological advancements, and cultural shifts.\n"
     ]
    }
   ],
   "source": [
    "\"\"\"Execute the bad prompt against the LLM\"\"\"\n",
    "\n",
    "bad_result = llm_model(bad_prompt)\n",
    "print(bad_result)"
   ]
  },
  {
   "cell_type": "code",
   "execution_count": 32,
   "id": "80d57e9a-371f-44fd-b281-ab94c59bcc9b",
   "metadata": {},
   "outputs": [
    {
     "name": "stdout",
     "output_type": "stream",
     "text": [
      "As of late 2023, several key trends are shaping the gaming industry:\n",
      "\n",
      "1. **Cloud Gaming**: Services like Google Stadia and Xbox Cloud Gaming are making high-quality gaming more accessible, allowing players to stream games without high-end hardware.\n",
      "\n",
      "2. **Cross-Platform Play**: Increasingly, games are allowing players on different platforms to play together, enhancing social interaction and broadening player bases.\n",
      "\n",
      "3. **Mobile Gaming Expansion**: The mobile gaming market continues to grow, driven by innovative game design and the rise of casual gaming.\n",
      "\n",
      "4. **Esports Growth**: Competitive gaming is becoming mainstream, with larger viewership, sponsorships, and professional leagues, attracting significant investment.\n",
      "\n",
      "5. **Virtual Reality (VR) and Augmented Reality (AR)**: Continued advancements in VR and AR technologies are creating more immersive gaming experiences.\n",
      "\n",
      "6. **Indie Game Renaissance**: Indie developers are gaining prominence, delivering unique, high-quality games that challenge traditional gaming norms.\n",
      "\n",
      "7. **Blockchain and NFTs**: Although controversial, the integration of blockchain technology and non-fungible tokens (NFTs) offers new ways for ownership and monetization in games.\n",
      "\n",
      "8. **Social and Community Features**: Games increasingly emphasize social interaction, creating communities within gaming experiences to foster engagement.\n",
      "\n",
      "9. **Narrative-Driven Games**: There's a growing demand for complex storytelling, with games focusing on narrative depth and emotional engagement.\n",
      "\n",
      "10. **Sustainability Practices**: The industry is increasingly aware of its environmental impact, leading to more sustainable practices in game development and distribution.\n",
      "\n",
      "These trends reflect ongoing innovations, changing player preferences, and broader cultural shifts within the gaming landscape.\n"
     ]
    }
   ],
   "source": [
    "raw_prompt = \"what are the latest and enduring trends in the gaming field?\"\n",
    "raw_result = llm_model(raw_prompt)\n",
    "\n",
    "print(raw_result)"
   ]
  },
  {
   "cell_type": "code",
   "execution_count": null,
   "id": "d3d2d427-db6d-46c0-a694-7a9531d9764b",
   "metadata": {},
   "outputs": [],
   "source": []
  }
 ],
 "metadata": {
  "kernelspec": {
   "display_name": "Python 3 (ipykernel)",
   "language": "python",
   "name": "python3"
  },
  "language_info": {
   "codemirror_mode": {
    "name": "ipython",
    "version": 3
   },
   "file_extension": ".py",
   "mimetype": "text/x-python",
   "name": "python",
   "nbconvert_exporter": "python",
   "pygments_lexer": "ipython3",
   "version": "3.10.12"
  }
 },
 "nbformat": 4,
 "nbformat_minor": 5
}
