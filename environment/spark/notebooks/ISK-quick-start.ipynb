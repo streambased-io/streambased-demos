{
 "cells": [
  {
   "cell_type": "markdown",
   "id": "e4c84557-f9f0-4c6b-a1f5-cbaed47a4cd1",
   "metadata": {},
   "source": [
    "## Listing and query Kafka Topics as Iceberg tables"
   ]
  },
  {
   "cell_type": "code",
   "execution_count": null,
   "id": "e31d7d2b-747d-4f00-85bb-768f09b3af2f",
   "metadata": {},
   "outputs": [],
   "source": [
    "# Start a Spark Session\n",
    "\n",
    "from pyspark.sql import SparkSession\n",
    "spark = SparkSession.builder.appName(\"Streambased\").getOrCreate()\n",
    "\n",
    "spark"
   ]
  },
  {
   "cell_type": "code",
   "execution_count": null,
   "id": "529841dd-3dd0-4de7-adbb-0f64427d7766",
   "metadata": {},
   "outputs": [],
   "source": [
    "# In Streambased a Kafka cluster is equivalent to an Iceberg namespace we only have 1 in this demo but \n",
    "# it could operate over many "
   ]
  },
  {
   "cell_type": "code",
   "execution_count": null,
   "id": "261376b1-f60d-4526-8db8-e9606d95fdb0",
   "metadata": {},
   "outputs": [],
   "source": [
    "%%sql\n",
    "\n",
    "USE isk.isk"
   ]
  },
  {
   "cell_type": "code",
   "execution_count": null,
   "id": "ef8c19c9-9ca0-4340-b644-6b066a61125a",
   "metadata": {},
   "outputs": [],
   "source": [
    "# List Kafka topics that are represented as Iceberg tables"
   ]
  },
  {
   "cell_type": "code",
   "execution_count": null,
   "id": "f50f758e-e454-4c7a-a0bd-20a38e162dac",
   "metadata": {},
   "outputs": [],
   "source": [
    "%%sql\n",
    "\n",
    "show tables;"
   ]
  },
  {
   "cell_type": "code",
   "execution_count": null,
   "id": "1cead44c-078b-4e88-a926-571c9d627500",
   "metadata": {},
   "outputs": [],
   "source": [
    "# Describe a topic/table - these descriptions are driven by Schema Registry but could come from other sources"
   ]
  },
  {
   "cell_type": "code",
   "execution_count": null,
   "id": "8d309581-b94c-4b41-908a-23ac360c7076",
   "metadata": {},
   "outputs": [],
   "source": [
    "%%sql\n",
    "\n",
    "DESCRIBE transactions;"
   ]
  },
  {
   "cell_type": "code",
   "execution_count": null,
   "id": "469b519e-0778-42e6-aaf6-ad824cc81b92",
   "metadata": {},
   "outputs": [],
   "source": [
    "# Iceberg gives us the ability to inspect the data files that make up a table's population. \n",
    "# Note the naming convention that indicates these represent chunks of Kafka offsets \n",
    "\n",
    "# Also note the partitioning applied, in this case we are partitioned by hour and have chosen to represent each hour \n",
    "# as one file"
   ]
  },
  {
   "cell_type": "code",
   "execution_count": null,
   "id": "143d27e9-6a27-41e2-82cb-55e755acd286",
   "metadata": {},
   "outputs": [],
   "source": [
    "%%sql\n",
    "\n",
    "SELECT *\n",
    "FROM isk.isk.transactions.files;"
   ]
  },
  {
   "cell_type": "code",
   "execution_count": null,
   "id": "c24d8d25-5aa9-40fc-a371-8d7eba344459",
   "metadata": {},
   "outputs": [],
   "source": [
    "# We can now query our Kafka data directly. This query fetches data for a single daya and performs a common aggregation on it."
   ]
  },
  {
   "cell_type": "code",
   "execution_count": null,
   "id": "8e4c3772-b0a1-4e6e-a301-4ed8165e2931",
   "metadata": {},
   "outputs": [],
   "source": [
    "%%sql\n",
    "-- Total taken in each currency - for single day - 21/04/2025.    \n",
    "    \n",
    "select \n",
    "    round(sum(t.amount),2) as total_taken,\n",
    "    p.currency  \n",
    "from \n",
    "    transactions t \n",
    "join \n",
    "    payment_terms p \n",
    "on \n",
    "    t.paymenttermcode=p.termcode\n",
    "where \n",
    "    t.transactiontime between '2025-04-21 00:00:00' AND '2025-04-21 23:59:59'\n",
    "group by \n",
    "    p.currency \n",
    "order by \n",
    "    p.currency asc;"
   ]
  },
  {
   "cell_type": "code",
   "execution_count": null,
   "id": "04e3354e-9580-469f-8c97-cf3586b2373e",
   "metadata": {},
   "outputs": [],
   "source": [
    "# After the above query has executed please navigate to: http://localhost:4041/SQL/ and look at the details for the \n",
    "# latest completed query. You should see only 24 files were read for the job \"BatchScan isk.isk.transactions\". This demonstrates \n",
    "# that partitioning is working correctly (1 file per hour for 1 day = 24 files required to be read).\n",
    "\n",
    "# Now we will remove the time bounds and run the query again"
   ]
  },
  {
   "cell_type": "code",
   "execution_count": null,
   "id": "62e29390-3edd-4fff-85ff-7fc74f88cc2e",
   "metadata": {},
   "outputs": [],
   "source": [
    "%%sql\n",
    "-- Total taken in each currency - without time bounds\n",
    "    \n",
    "select \n",
    "    round(sum(t.amount),2) as total_taken,\n",
    "    p.currency  \n",
    "from \n",
    "    transactions t \n",
    "join \n",
    "    payment_terms p \n",
    "on \n",
    "    t.paymenttermcode=p.termcode\n",
    "--where \n",
    "--    t.transactiontime between '2025-04-21 00:00:00' AND '2025-04-21 23:59:59'\n",
    "group by \n",
    "    p.currency \n",
    "order by \n",
    "    p.currency asc;"
   ]
  },
  {
   "cell_type": "code",
   "execution_count": null,
   "id": "2a655187-dfbc-47aa-8db8-439afa854d67",
   "metadata": {},
   "outputs": [],
   "source": [
    "# returning to the latest query http://localhost:4041/SQL/ you will see this query read a far greater number of files."
   ]
  },
  {
   "cell_type": "code",
   "execution_count": null,
   "id": "ca079d78-9665-4fd7-8fed-da2417c0a513",
   "metadata": {},
   "outputs": [],
   "source": [
    "# Please return to the demo script."
   ]
  },
  {
   "cell_type": "code",
   "execution_count": null,
   "id": "231e60fe-f263-47d1-b91e-e6e539813e8d",
   "metadata": {},
   "outputs": [],
   "source": []
  }
 ],
 "metadata": {
  "kernelspec": {
   "display_name": "Python 3 (ipykernel)",
   "language": "python",
   "name": "python3"
  },
  "language_info": {
   "codemirror_mode": {
    "name": "ipython",
    "version": 3
   },
   "file_extension": ".py",
   "mimetype": "text/x-python",
   "name": "python",
   "nbconvert_exporter": "python",
   "pygments_lexer": "ipython3",
   "version": "3.10.16"
  }
 },
 "nbformat": 4,
 "nbformat_minor": 5
}
