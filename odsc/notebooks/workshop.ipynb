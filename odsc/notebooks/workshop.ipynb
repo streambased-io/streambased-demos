{
 "cells": [
  {
   "cell_type": "code",
   "execution_count": null,
   "id": "b6b23e01-cc86-4f00-ad99-8a5bfc216a10",
   "metadata": {
    "tags": []
   },
   "outputs": [],
   "source": [
    "import os\n",
    "from openai import OpenAI\n",
    "import openai\n",
    "import json\n",
    "from sqlalchemy.engine import create_engine\n",
    "from sqlalchemy import text\n",
    "import pandas as pd\n",
    "import time\n",
    "from pandas import DataFrame\n",
    "import random"
   ]
  },
  {
   "cell_type": "code",
   "execution_count": null,
   "id": "ff4a9489-8dc4-44b3-80fb-6ec011922697",
   "metadata": {},
   "outputs": [],
   "source": [
    "\"\"\"A utility function to execute prompts against the LLM\"\"\"\n",
    "\n",
    "def llm_model(prompt):\n",
    "    client = OpenAI(api_key=\"\")\n",
    "    try:\n",
    "        response =client.chat.completions.create(\n",
    "            model=\"gpt-4o-mini\",\n",
    "            messages=[{\"role\": \"system\", \"content\": \"You have an extensive knowledge on english and have an amazing skill to summarise documents without losing important information and delvireing the content in a very consize way\"},\n",
    "                      {\"role\": \"user\", \"content\": prompt}]\n",
    "        )\n",
    "        response_message = response.choices[0].message.content\n",
    "        return response_message\n",
    "    except openai.OpenAIError as e:\n",
    "        print(f\"OpenAI API error: {e}\")\n",
    "        return \"Error with OpenAI API\"\n",
    "    except Exception as e:\n",
    "        print(f\"General error: {e}\")\n",
    "        return \"General error in classification\""
   ]
  },
  {
   "cell_type": "code",
   "execution_count": null,
   "id": "22220a49-8a05-4201-bb64-9b584af4961e",
   "metadata": {
    "tags": []
   },
   "outputs": [],
   "source": [
    "\"\"\"A utility function to setup the connection to the realtime source\"\"\"\n",
    "\n",
    "def create_kafka_engine(connection_params: str):\n",
    "    \n",
    "    connect_args = {\n",
    "        \"session_properties\": {\"streambased_connection\": connection_params, \"use_streambased\": True},\n",
    "        \"http_scheme\": \"https\",\n",
    "        \"schema\": \"streambased\"\n",
    "    }\n",
    "    \n",
    "    engine = create_engine(\"trino://streambased.cloud:8443/kafka\", connect_args=connect_args)\n",
    "    \n",
    "    return engine"
   ]
  },
  {
   "cell_type": "code",
   "execution_count": null,
   "id": "1ff644c3-a9b2-4c5a-a85c-1ba4b88d5f72",
   "metadata": {
    "tags": []
   },
   "outputs": [],
   "source": [
    "\"\"\"Make a connection for the realtime source\"\"\"\n",
    "\n",
    "connection_params = \"\"\"{\n",
    "  \"bootstrap.servers\": \"pkc-l6wr6.europe-west2.gcp.confluent.cloud:9092\",\n",
    "  \"security.protocol\": \"SASL_SSL\",\n",
    "  \"sasl.jaas.config\": \"org.apache.kafka.common.security.plain.PlainLoginModule required username='4OOK2MI6TA37CC4K' password='0mzIsqc1Soz2thm9EutDuAkARY8CZqaNzJ5IF/KboX3l58XN/LZ+yQeuG3LmheIc';\",\n",
    "  \"sasl.mechanism\": \"PLAIN\",\n",
    "  \"schema.registry.url\":\"https://psrc-571d82.europe-west2.gcp.confluent.cloud\",\n",
    "  \"basic.auth.credentials.source\":\"USER_INFO\",\n",
    "  \"basic.auth.user.info\":\"FM36ASJ3BX2SWVXV:gKeS/p/CyfQYfd9/9diFwU6LsauvJ4mtmnPAv68ro7Bm81aZp29QOTXkV5yuv8af\"\n",
    "}\"\"\"\n",
    "\n",
    "engine = create_kafka_engine(connection_params)\n",
    "connection = engine.connect()"
   ]
  },
  {
   "cell_type": "code",
   "execution_count": null,
   "id": "8e2da26e-3635-4741-a94b-014776ddd23b",
   "metadata": {},
   "outputs": [],
   "source": [
    "\"\"\"Prepare 7 days worth of queries\"\"\"\n",
    "\n",
    "current_timestamp = int(time.time()*1000)\n",
    "day1_timestamp = current_timestamp - 86400000\n",
    "day2_timestamp = day1_timestamp - 86400000\n",
    "day3_timestamp = day2_timestamp - 86400000\n",
    "day4_timestamp = day3_timestamp - 86400000\n",
    "day5_timestamp = day4_timestamp - 86400000\n",
    "day6_timestamp = day5_timestamp - 86400000\n",
    "day7_timestamp = day6_timestamp - 86400000\n",
    "\n",
    "\"\"\"We limit the rows returned for demo performance reasons\"\"\"\n",
    "\n",
    "day1_query = f\"SELECT * FROM yt_gaming_subtitles WHERE timestamp > {day1_timestamp} AND timestamp < {current_timestamp} LIMIT 5000\" \n",
    "day2_query = f\"SELECT * FROM yt_gaming_subtitles WHERE timestamp > {day1_timestamp} AND timestamp < {current_timestamp} LIMIT 5000\"\n",
    "day3_query = f\"SELECT * FROM yt_gaming_subtitles WHERE timestamp > {day1_timestamp} AND timestamp < {current_timestamp} LIMIT 5000\"\n",
    "day4_query = f\"SELECT * FROM yt_gaming_subtitles WHERE timestamp > {day1_timestamp} AND timestamp < {current_timestamp} LIMIT 5000\"\n",
    "day5_query = f\"SELECT * FROM yt_gaming_subtitles WHERE timestamp > {day1_timestamp} AND timestamp < {current_timestamp} LIMIT 5000\"\n",
    "day6_query = f\"SELECT * FROM yt_gaming_subtitles WHERE timestamp > {day1_timestamp} AND timestamp < {current_timestamp} LIMIT 5000\"\n",
    "day7_query = f\"SELECT * FROM yt_gaming_subtitles WHERE timestamp > {day1_timestamp} AND timestamp < {current_timestamp} LIMIT 5000\"\n"
   ]
  },
  {
   "cell_type": "code",
   "execution_count": null,
   "id": "eca1bbd7-c8a0-439c-961e-30305ac782e7",
   "metadata": {},
   "outputs": [],
   "source": [
    "\"\"\"Execute 7 days worth of queries - in production this would be executed asynchronously and continuously\"\"\"\n",
    "\n",
    "connection = engine.connect()\n",
    "\n",
    "rs = connection.execute(text(day1_query))\n",
    "day1_l0_df = DataFrame(rs.fetchall())\n",
    "day1_l0_df.columns = rs.keys()"
   ]
  },
  {
   "cell_type": "code",
   "execution_count": null,
   "id": "5f8579e0-74fe-4737-8518-c7ca103c2150",
   "metadata": {},
   "outputs": [],
   "source": [
    "rs = connection.execute(text(day2_query))\n",
    "day2_l0_df = DataFrame(rs.fetchall())\n",
    "day2_l0_df.columns = rs.keys()"
   ]
  },
  {
   "cell_type": "code",
   "execution_count": null,
   "id": "9139a1a9-425d-43f7-9078-ec087b835585",
   "metadata": {},
   "outputs": [],
   "source": [
    "rs = connection.execute(text(day3_query))\n",
    "day3_l0_df = DataFrame(rs.fetchall())\n",
    "day3_l0_df.columns = rs.keys()"
   ]
  },
  {
   "cell_type": "code",
   "execution_count": null,
   "id": "a450b4a9-f38e-4e3d-81a5-6aac57255698",
   "metadata": {},
   "outputs": [],
   "source": [
    "rs = connection.execute(text(day4_query))\n",
    "day4_l0_df = DataFrame(rs.fetchall())\n",
    "day4_l0_df.columns = rs.keys()"
   ]
  },
  {
   "cell_type": "code",
   "execution_count": null,
   "id": "acbf475b-5561-4386-a3b7-bdb1576105ba",
   "metadata": {},
   "outputs": [],
   "source": [
    "rs = connection.execute(text(day5_query))\n",
    "day5_l0_df = DataFrame(rs.fetchall())\n",
    "day5_l0_df.columns = rs.keys()"
   ]
  },
  {
   "cell_type": "code",
   "execution_count": null,
   "id": "b83afc2f-9fe9-4218-b096-5bc6c9077258",
   "metadata": {},
   "outputs": [],
   "source": [
    "rs = connection.execute(text(day6_query))\n",
    "day6_l0_df = DataFrame(rs.fetchall())\n",
    "day6_l0_df.columns = rs.keys()"
   ]
  },
  {
   "cell_type": "code",
   "execution_count": null,
   "id": "a25512ae-1f9b-495f-8d31-7b66fb9c5fc1",
   "metadata": {},
   "outputs": [],
   "source": [
    "rs = connection.execute(text(day7_query))\n",
    "day7_l0_df = DataFrame(rs.fetchall())\n",
    "day7_l0_df.columns = rs.keys()"
   ]
  },
  {
   "cell_type": "code",
   "execution_count": null,
   "id": "d98fc44e-a988-4893-89b0-4244caf67a85",
   "metadata": {},
   "outputs": [],
   "source": [
    "\"\"\"Level 1 summarisation: we take 1 day's worth of captions and summarise them to 1000 words\"\"\"\n",
    "\n",
    "day2_l1_prompt = f\"\"\"I have provided the input of the youtube gaming subtitles for a single day please summmarise\n",
    "it to 1000 words and make sure you don't leave important stuff out. The captions are: {' '.join(day2_l0_df[\"text\"].dropna())}\"\"\"\n",
    "day2_l1_summary = llm_model(day2_l1_prompt)"
   ]
  },
  {
   "cell_type": "code",
   "execution_count": null,
   "id": "b94ff3e4-4b62-452d-9ada-d16585f6ff77",
   "metadata": {},
   "outputs": [],
   "source": [
    "day3_l1_prompt = f\"\"\"I have provided the input of the youtube gaming subtitles for a single day please summmarise\n",
    "it to 1000 words and make sure you don't leave important stuff out. The captions are: {' '.join(day3_l0_df[\"text\"].dropna())}\"\"\"\n",
    "day3_l1_summary = llm_model(day3_l1_prompt)"
   ]
  },
  {
   "cell_type": "code",
   "execution_count": null,
   "id": "6e6029c4-d80a-4422-8d0a-bd90c6d87714",
   "metadata": {},
   "outputs": [],
   "source": [
    "\"\"\"Level 2 summarisation: we take 1 day's worth of captions and extract 100 keywords\"\"\"\n",
    "\n",
    "day4_l2_prompt = f\"\"\"I have provided the input of the youtube gaming subtitles for a single day please extract 100 keywords from it. The captions are: {' '.join(day4_l0_df[\"text\"].dropna())}\"\"\"\n",
    "day4_l2_summary = llm_model(day4_l2_prompt)"
   ]
  },
  {
   "cell_type": "code",
   "execution_count": null,
   "id": "17a9c391-ca39-4a77-a388-abbe5394fb79",
   "metadata": {},
   "outputs": [],
   "source": [
    "day5_l2_prompt = f\"\"\"I have provided the input of the youtube gaming subtitles for a single day please extract 100 keywords from it. The captions are: {' '.join(day5_l0_df[\"text\"].dropna())}\"\"\"\n",
    "day5_l2_summary = llm_model(day5_l2_prompt)"
   ]
  },
  {
   "cell_type": "code",
   "execution_count": null,
   "id": "1bfcbcdf-51e5-4216-9b9d-71402cc52803",
   "metadata": {},
   "outputs": [],
   "source": [
    "day6_l2_prompt = f\"\"\"I have provided the input of the youtube gaming subtitles for a single day please extract 100 keywords from it. The captions are: {' '.join(day6_l0_df[\"text\"].dropna())}\"\"\"\n",
    "day6_l2_summary = llm_model(day6_l2_prompt)"
   ]
  },
  {
   "cell_type": "code",
   "execution_count": null,
   "id": "9672c05a-ca46-4b74-909c-c2b43a2a4359",
   "metadata": {},
   "outputs": [],
   "source": [
    "day7_l2_prompt = f\"\"\"I have provided the input of the youtube gaming subtitles for a single day please extract 100 keywords from it. The captions are: {' '.join(day7_l0_df[\"text\"].dropna())}\"\"\"\n",
    "day7_l2_summary = llm_model(day7_l2_prompt)"
   ]
  },
  {
   "cell_type": "code",
   "execution_count": null,
   "id": "afba6537-7b17-4eec-87e6-6c00a9e60167",
   "metadata": {},
   "outputs": [],
   "source": [
    "\"\"\"Now we can compose a prompt\"\"\"\n",
    "\n",
    "prompt = f\"\"\"I have provided captions from Youtube gaming videos from the last day here: \n",
    "\n",
    "{' '.join(day1_l0_df[\"text\"].dropna())}.\n",
    "\n",
    "I have also provided a sumary of Youtube gaming videos from 24 to 72hrs ago here: \n",
    "\n",
    "{day2_l1_summary}\n",
    "{day3_l1_summary}\n",
    "\n",
    "I have also provided keywords extracted from Youtube gaming videos older than 72hrs here:\n",
    "\n",
    "{day4_l2_summary}\n",
    "{day5_l2_summary}\n",
    "{day6_l2_summary}\n",
    "{day7_l2_summary}\n",
    "\n",
    "Use this information to answer the user's question. The user's question is what are the latest and enduring trends in the gaming field?\"\"\"\n",
    "\n",
    "print(f\"Composed a prompt with length: {len(prompt.split())}\")\n"
   ]
  },
  {
   "cell_type": "code",
   "execution_count": null,
   "id": "2753e5d8-dd3b-444f-8e75-cad15ed84b00",
   "metadata": {},
   "outputs": [],
   "source": [
    "\"\"\"Execute the prompt against the LLM\"\"\"\n",
    "\n",
    "result = llm_model(prompt)\n",
    "print(result)"
   ]
  },
  {
   "cell_type": "code",
   "execution_count": null,
   "id": "589d8de0-f0e7-46fd-bc8b-7926897a7256",
   "metadata": {},
   "outputs": [],
   "source": [
    "\"\"\"Let's compare with a similar prompt size with a lot less detail\"\"\"\n",
    "\n",
    "top_k_selections = [day1_l0_df,day2_l0_df,day3_l0_df,day4_l0_df,day5_l0_df,day6_l0_df,day7_l0_df]\n",
    "top_k_df_1 = random.choice(top_k_selections)\n",
    "top_k_df_2 = random.choice(top_k_selections)\n",
    "\n",
    "bad_prompt = f\"\"\"I have provided captions from Youtube gaming videos here: \n",
    "\n",
    "{' '.join(top_k_df_1[\"text\"].dropna())}\n",
    "{' '.join(top_k_df_2[\"text\"].dropna())}\n",
    "\n",
    "Use this information to answer the user's question. The user's question is what are the latest and enduring trends in the gaming field?\"\"\"\n",
    "\n",
    "print(f\"Composed a prompt with length: {len(bad_prompt.split())}\")"
   ]
  },
  {
   "cell_type": "code",
   "execution_count": null,
   "id": "22d79a75-c682-4818-89dd-f10ff054bf2c",
   "metadata": {},
   "outputs": [],
   "source": [
    "\"\"\"Execute the bad prompt against the LLM\"\"\"\n",
    "\n",
    "bad_result = llm_model(bad_prompt)\n",
    "print(bad_result)"
   ]
  },
  {
   "cell_type": "code",
   "execution_count": null,
   "id": "80d57e9a-371f-44fd-b281-ab94c59bcc9b",
   "metadata": {},
   "outputs": [],
   "source": [
    "raw_prompt = \"what are the latest and enduring trends in the gaming field?\"\n",
    "raw_result = llm_model(raw_prompt)\n",
    "\n",
    "print(raw_result)"
   ]
  },
  {
   "cell_type": "code",
   "execution_count": null,
   "id": "d3d2d427-db6d-46c0-a694-7a9531d9764b",
   "metadata": {},
   "outputs": [],
   "source": []
  }
 ],
 "metadata": {
  "kernelspec": {
   "display_name": "Python 3 (ipykernel)",
   "language": "python",
   "name": "python3"
  },
  "language_info": {
   "codemirror_mode": {
    "name": "ipython",
    "version": 3
   },
   "file_extension": ".py",
   "mimetype": "text/x-python",
   "name": "python",
   "nbconvert_exporter": "python",
   "pygments_lexer": "ipython3",
   "version": "3.10.12"
  }
 },
 "nbformat": 4,
 "nbformat_minor": 5
}
