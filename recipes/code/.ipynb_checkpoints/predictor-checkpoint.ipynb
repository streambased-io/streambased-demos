{
 "cells": [
  {
   "cell_type": "markdown",
   "id": "b13eeb6d",
   "metadata": {},
   "source": [
    "## Load the data from kafka "
   ]
  },
  {
   "cell_type": "code",
   "execution_count": 1,
   "id": "51665306-7c67-4361-98cb-2379f66b46a9",
   "metadata": {},
   "outputs": [
    {
     "data": {
      "text/html": [
       "<span style=\"None\">Connecting to &#x27;trino://streambased-server:8080/kafka&#x27;</span>"
      ],
      "text/plain": [
       "Connecting to 'trino://streambased-server:8080/kafka'"
      ]
     },
     "metadata": {},
     "output_type": "display_data"
    },
    {
     "data": {
      "text/html": [
       "<span style=\"None\">Running query in &#x27;trino://streambased-server:8080/kafka&#x27;</span>"
      ],
      "text/plain": [
       "Running query in 'trino://streambased-server:8080/kafka'"
      ]
     },
     "metadata": {},
     "output_type": "display_data"
    }
   ],
   "source": [
    "%load_ext sql\n",
    "%sql trino://streambased-server:8080/kafka\n",
    "result = %sql SELECT * FROM kafka.streambased.recipes WHERE rating = 5 LIMIT 10"
   ]
  },
  {
   "cell_type": "markdown",
   "id": "b7304195",
   "metadata": {},
   "source": [
    "### Load the query into pandas DataFrame"
   ]
  },
  {
   "cell_type": "code",
   "execution_count": 2,
   "id": "55518a61-b550-411c-b4d1-55ae4014fbf3",
   "metadata": {},
   "outputs": [],
   "source": [
    "import pandas as pd\n",
    "df = result.DataFrame()"
   ]
  },
  {
   "cell_type": "code",
   "execution_count": 3,
   "id": "e6894270-e456-40d1-98e9-af4dc7a263e3",
   "metadata": {},
   "outputs": [],
   "source": [
    "import time\n",
    "import pandas as pd\n",
    "import pandas as pd\n",
    "from joblib import dump, load"
   ]
  },
  {
   "cell_type": "code",
   "execution_count": 4,
   "id": "5f2223c0-1f79-4203-adba-5d15a7bb9fc7",
   "metadata": {},
   "outputs": [],
   "source": [
    "features = [column for column in df.columns if column not in ['rating', '_partition_id', '_partition_offset',\n",
    "                                                               '_message_corrupt', '_message', '_headers',\n",
    "                                                               '_message_length', '_key_corrupt', '_key',\n",
    "                                                               '_key_length', '_timestamp', 'cuisine']]\n"
   ]
  },
  {
   "cell_type": "markdown",
   "id": "264cadfe",
   "metadata": {},
   "source": [
    "### Perform Prediction "
   ]
  },
  {
   "cell_type": "code",
   "execution_count": 5,
   "id": "e75a4643-5ed7-49f9-9f17-b1ff530b626d",
   "metadata": {},
   "outputs": [
    {
     "name": "stdout",
     "output_type": "stream",
     "text": [
      "Predicted class for row 0: Japan\n",
      "Predicted class for row 1: Mexico\n",
      "Predicted class for row 2: Japan\n",
      "Predicted class for row 3: Mexico\n",
      "Predicted class for row 4: Mexico\n",
      "Predicted class for row 5: Japan\n",
      "Predicted class for row 6: Mexico\n",
      "Predicted class for row 7: Mexico\n",
      "Predicted class for row 8: Lebanon\n",
      "Predicted class for row 9: Mexico\n",
      "Predicted class for row 10: Lebanon\n",
      "Predicted class for row 11: Mexico\n"
     ]
    }
   ],
   "source": [
    "from river import tree\n",
    "from joblib import load\n",
    "\n",
    "# Load the pre-trained model\n",
    "model_path = \"hoeffding_tree_model.joblib\"\n",
    "model = load(model_path)\n",
    "\n",
    "# Simulate incoming data stream (for demonstration, let's use a portion of your existing DataFrame)\n",
    "# In a real scenario, this data could come from a live data source\n",
    "streaming_data = df[features]  # Let's assume we're making predictions for the first 10 rows\n",
    "\n",
    "# Iterate over each row in your streaming data to make predictions\n",
    "for index, row in streaming_data.iterrows():\n",
    "    # Convert the row to a dict of features\n",
    "    x = row.to_dict()\n",
    "    \n",
    "    # Make a prediction for the current set of features\n",
    "    y_pred = model.predict_one(x)\n",
    "    \n",
    "    # Optionally, you can print or log the prediction\n",
    "    print(f\"Predicted class for row {index}: {y_pred}\")"
   ]
  }
 ],
 "metadata": {
  "kernelspec": {
   "display_name": "Python 3 (ipykernel)",
   "language": "python",
   "name": "python3"
  },
  "language_info": {
   "codemirror_mode": {
    "name": "ipython",
    "version": 3
   },
   "file_extension": ".py",
   "mimetype": "text/x-python",
   "name": "python",
   "nbconvert_exporter": "python",
   "pygments_lexer": "ipython3",
   "version": "3.10.12"
  }
 },
 "nbformat": 4,
 "nbformat_minor": 5
}
